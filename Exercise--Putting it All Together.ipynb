{
 "cells": [
  {
   "cell_type": "code",
   "execution_count": 1,
   "metadata": {
    "collapsed": true
   },
   "outputs": [],
   "source": [
    "import tensorflow as tf"
   ]
  },
  {
   "cell_type": "code",
   "execution_count": 10,
   "metadata": {
    "collapsed": false
   },
   "outputs": [
    {
     "name": "stdout",
     "output_type": "stream",
     "text": [
      "INFO:tensorflow:Summary name Sum of outputs over time is illegal; using Sum_of_outputs_over_time instead.\n",
      "INFO:tensorflow:Summary name Average of outputs over time is illegal; using Average_of_outputs_over_time instead.\n"
     ]
    }
   ],
   "source": [
    "graph = tf.Graph()\n",
    "\n",
    "with graph.as_default():\n",
    "    #We've initialized a graph, but we still need to create a named \n",
    "    #Scope within the graph, lest things get messy.\n",
    "    with tf.name_scope(\"variables\"):\n",
    "        \n",
    "        #This is our counter variable. Counters should always have their \n",
    "        # 'trainable' value set to False so that optimizers will leave them\n",
    "        # alone!\n",
    "        global_step = tf.Variable(0, dtype=tf.int32, trainable=False, \n",
    "                                  name=\"global_step\")\n",
    "        \n",
    "        #Variable that keeps track of the sum of all output \n",
    "        #values over time\n",
    "        total_output=tf.Variable(0.0, dtype=tf.float32, trainable=False, \n",
    "                                name=\"total_output\")\n",
    "        \n",
    "    with tf.name_scope(\"transformation\"):\n",
    "        \n",
    "        #Separate input layer\n",
    "        with tf.name_scope(\"input\"):\n",
    "            #Create input placeholder--takes in a Vector\n",
    "            a = tf.placeholder(tf.float32, shape=[None], \n",
    "                               name=\"input_placeholder\")\n",
    "        #Separate middle layer\n",
    "        with tf.name_scope(\"intermediate_layer\"):\n",
    "            b = tf.reduce_prod(a, name=\"product_b\")\n",
    "            c = tf.reduce_sum(a, name=\"sum_c\")\n",
    "        \n",
    "        #Separate output layer\n",
    "        with tf.name_scope(\"output\"):\n",
    "            output = tf.add(b, c, name=\"output\")\n",
    "            \n",
    "       \n",
    "    with tf.name_scope(\"update\"):\n",
    "        # Increments the total_output Variable by the latest output\n",
    "        # (this variable just acts as an accumulator)\n",
    "        update_total = total_output.assign_add(output)\n",
    "        \n",
    "        #Increments the above 'global step' Variable, should be \n",
    "        #run whenever the graph is run.\n",
    "        increment_step = global_step.assign_add(1)\n",
    "        \n",
    "    with tf.name_scope(\"summaries\"):\n",
    "        avg = tf.div(update_total, tf.cast(increment_step, tf.float32),\n",
    "                    name=\"average\")\n",
    "        \n",
    "        #Creates summaries for output node\n",
    "        tf.summary.scalar('Output', output)\n",
    "        tf.summary.scalar('Sum of outputs over time', update_total)\n",
    "        tf.summary.scalar('Average of outputs over time', avg)\n",
    "    \n",
    "    with tf.name_scope('global_ops'):\n",
    "        # Initialization Op\n",
    "        init = tf.global_variables_initializer()\n",
    "        # Merge all summaries into one Operation\n",
    "        merged_summaries = tf.summary.merge_all()\n",
    "    \n",
    "sess  = tf.Session(graph=graph)\n",
    "writer = tf.summary.FileWriter('./improved_graph', graph)\n",
    "\n",
    "sess.run(init)        "
   ]
  },
  {
   "cell_type": "code",
   "execution_count": 11,
   "metadata": {
    "collapsed": true
   },
   "outputs": [],
   "source": [
    "# Create helper function for running graphs\n",
    "def run_graph(input_tensor):\n",
    "    feed_dict = {a: input_tensor}\n",
    "    _, step, summary = sess.run([output, increment_step, \n",
    "                                 merged_summaries], \n",
    "                                feed_dict=feed_dict)\n",
    "    writer.add_summary(summary, global_step=step)\n",
    "    "
   ]
  },
  {
   "cell_type": "code",
   "execution_count": 12,
   "metadata": {
    "collapsed": true
   },
   "outputs": [],
   "source": [
    "run_graph([2, 8])\n",
    "run_graph([3, 1, 3, 3])"
   ]
  },
  {
   "cell_type": "code",
   "execution_count": 13,
   "metadata": {
    "collapsed": true
   },
   "outputs": [],
   "source": [
    "# Let's write the summaries to disk by using the .flush() method\n",
    "writer.flush()\n",
    "writer.close()\n",
    "sess.close()"
   ]
  },
  {
   "cell_type": "code",
   "execution_count": null,
   "metadata": {
    "collapsed": true
   },
   "outputs": [],
   "source": []
  }
 ],
 "metadata": {
  "anaconda-cloud": {},
  "kernelspec": {
   "display_name": "Python [default]",
   "language": "python",
   "name": "python3"
  },
  "language_info": {
   "codemirror_mode": {
    "name": "ipython",
    "version": 3
   },
   "file_extension": ".py",
   "mimetype": "text/x-python",
   "name": "python",
   "nbconvert_exporter": "python",
   "pygments_lexer": "ipython3",
   "version": "3.5.2"
  }
 },
 "nbformat": 4,
 "nbformat_minor": 2
}
